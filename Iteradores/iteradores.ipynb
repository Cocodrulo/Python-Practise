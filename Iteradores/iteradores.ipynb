{
 "cells": [
  {
   "cell_type": "markdown",
   "metadata": {},
   "source": [
    "# ITERADORES\n",
    "\n",
    "## ¿Qué es un iterador?\n",
    "\n",
    "La iterabilidad es una propiedad que poseen los tipos de datos. Las listas, tuplas, conjuntos y diccionarios son objetos iterables, ya que permiten acceder a sus datos de manera continuada uno tras otro. Un iterador, pues, es un objeto que se puede iterar, es decir, que genera valores de forma finita.\n",
    "\n",
    "## ¿Cómo creo un objeto iterador?\n",
    "\n",
    "Hay dos formas:\n",
    "- A través de la creación de objetos, usando el método mágico `__iter__` y de manera opcional el `__next__`.\n",
    "- Con el uso de funciones generadoras, es decir, funciones con el `yield`."
   ]
  },
  {
   "cell_type": "markdown",
   "metadata": {},
   "source": [
    "### Funciones Generadoras ###"
   ]
  },
  {
   "cell_type": "code",
   "execution_count": null,
   "metadata": {},
   "outputs": [],
   "source": [
    "import collections.abc\n",
    "\n",
    "def EvenGenerator(limit:int) -> collections.abc.Iterable:\n",
    "    last = 0\n",
    "    while last <= limit:\n",
    "        yield last\n",
    "        last += 2\n",
    "\n",
    "generator = EvenGenerator(10)\n",
    "\n",
    "print(f\"El primer valor del generador es: {next(generator)}\")\n",
    "print(f\"El segundo valor del generador es: {next(generator)}\")\n",
    "print(f\"El tercero valor del generador es: {next(generator)}\")\n",
    "print(f\"El cuarto valor del generador es: {next(generator)}\")"
   ]
  },
  {
   "cell_type": "markdown",
   "metadata": {},
   "source": [
    "La función mencionada arriba es una función generadora. Este tipo de funciones es fácilmente identificable por el uso del `yield`. Esta instrucción es, en cierto modo, similar al `return`. Mientras que el `return` finaliza la ejecución actual y devuelve el flujo de ejecución al scoope (ámbito) inmediatamente externo, el `yield` no finaliza la ejecución pero si devuelve al fuljo de ejecución al scoope inmediatamente externo. Esto permite las variables en el interior de la función funcionen de manera diferente, ya que guarda su valor (al usarlo de manera iterable) y no se resetean. Esto es útil para el uso en bucles `for` o para el uso de la función `next` como en el ejemplo anterior. \n",
    "\n",
    "Por ejemplo, podemos crear una función generadora que genere una cantidad de números aleatorios comprendidos entre otros dos números:"
   ]
  },
  {
   "cell_type": "code",
   "execution_count": null,
   "metadata": {},
   "outputs": [],
   "source": [
    "import random\n",
    "import collections.abc\n",
    "\n",
    "def GenerateRandom(max_quantity:int, limit_left:int=0, limit_right:int=10) -> collections.abc.Iterable:\n",
    "    current_quantity = 0\n",
    "    while current_quantity < max_quantity:\n",
    "        yield random.randint(limit_left, limit_right)\n",
    "        current_quantity += 1\n",
    "\n",
    "num = 1\n",
    "for x in GenerateRandom(6, 1, 5):\n",
    "    print(f\"{num}. Nuevo número aleatorio: {x}\")\n",
    "    num += 1"
   ]
  },
  {
   "cell_type": "markdown",
   "metadata": {},
   "source": [
    "### Objetos Iterables"
   ]
  },
  {
   "cell_type": "code",
   "execution_count": null,
   "metadata": {},
   "outputs": [],
   "source": [
    "import collections.abc\n",
    "\n",
    "class Example:\n",
    "    def __init__(self, limit:int) -> None:\n",
    "        self.__limit = limit\n",
    "        self.__current = 0\n",
    "        self.__len = (limit + 2) // 2\n",
    "\n",
    "    def __len__(self) -> int:\n",
    "        return self.__len\n",
    "\n",
    "    def __iter__(self) -> collections.abc.Iterable:\n",
    "        return self\n",
    "\n",
    "    def __next__(self):\n",
    "        if self.__current > self.__limit:\n",
    "            raise StopIteration\n",
    "\n",
    "        self.__current += 2\n",
    "        return self.__current - 2\n",
    "\n",
    "num = 1\n",
    "object1 = Example(6)\n",
    "print(f\"La longitud del objeto1 es: {len(object1)}\")\n",
    "for x in object1:\n",
    "    print(f\"{num}. Nuevo número par: {x}\")\n",
    "    num += 1"
   ]
  },
  {
   "cell_type": "markdown",
   "metadata": {},
   "source": [
    "El objeto mostrado arriba es un objeto iterable. Este tipo de objetos es fácilmente identificable por el uso de los métodos mágicos `__iter__` y `__next__`. El metodo mágico `__iter__` debe devolver un objeto iterable (veremos más adelante que también pueden ser funciones generadoras, pues estas son iterables). El método mágico `__next__` debe devolver la siguiente ocurrencia a la iteración actual y en caso de haber llegado al máximo, debe hacer un `raise StopIteration`, es decir, lanzará un error que para la iteración (este error será controlado por el propio objeto y no hace falta que nosotros lo controlemos).\n",
    "\n",
    "Siendo rigurosos, el `__iter__` debe devolver un objeto que contenga el `__next__`, por eso podemos incluir funciones generadoras, bien siendo llamadas precedidas por un `return`:\n",
    "```python\n",
    "    return GenereteableFunction()\n",
    "```\n",
    "O siendo programadas en el interior de la función:\n",
    "```python\n",
    "    def __iter__(self):\n",
    "        while self.smth:\n",
    "            yield self.smthelse\n",
    "            self.smth += 1\n",
    "```\n",
    "\n",
    "Las funciones generadoras ya contienen su propia definición de `__next__` por eso es por lo que podemos usarlo aquí."
   ]
  },
  {
   "cell_type": "code",
   "execution_count": null,
   "metadata": {},
   "outputs": [],
   "source": [
    "import random\n",
    "import collections.abc\n",
    "\n",
    "class RandomNumbers:\n",
    "    \"\"\"Itereable class that return a new random number between limits until a quantity of returned number is reached.\\\n",
    "        Default left limit is 0 and right limit is 10.\"\"\"\n",
    "    def __init__(self, limit:int, left_limit:int=0, right_limit:int=10) -> None:\n",
    "        self.__limit = limit\n",
    "        self.__current = 0\n",
    "        self.__left_limit = left_limit\n",
    "        self.__right_limit = right_limit\n",
    "\n",
    "    def __len__(self) -> int:\n",
    "        return self.__limit\n",
    "\n",
    "    def __iter__(self) -> collections.abc.Iterable:\n",
    "        while self.__current < self.__limit:\n",
    "            yield random.randint(self.__left_limit, self.__right_limit)\n",
    "            self.__current += 1\n",
    "\n",
    "num = 1\n",
    "object1 = RandomNumbers(6, 1, 5)\n",
    "print(f\"La longitud del objeto1 es: {len(object1)}\")\n",
    "for x in object1:\n",
    "    print(f\"{num}. Nuevo número aleatorio: {x}\")\n",
    "    num += 1"
   ]
  }
 ],
 "metadata": {
  "kernelspec": {
   "display_name": "Python 3",
   "language": "python",
   "name": "python3"
  },
  "language_info": {
   "codemirror_mode": {
    "name": "ipython",
    "version": 3
   },
   "file_extension": ".py",
   "mimetype": "text/x-python",
   "name": "python",
   "nbconvert_exporter": "python",
   "pygments_lexer": "ipython3",
   "version": "3.12.2"
  }
 },
 "nbformat": 4,
 "nbformat_minor": 2
}
